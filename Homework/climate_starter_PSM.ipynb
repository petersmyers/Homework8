{
 "cells": [
  {
   "cell_type": "code",
   "execution_count": 1,
   "metadata": {},
   "outputs": [],
   "source": [
    "# Comment out this line because Ken said to.\n",
    "# %matplotlib inline\n",
    "\n",
    "# Import matplotlib so we can make pretty graphs\n",
    "from matplotlib import style\n",
    "style.use('fivethirtyeight')\n",
    "import matplotlib.pyplot as plt"
   ]
  },
  {
   "cell_type": "code",
   "execution_count": 2,
   "metadata": {},
   "outputs": [],
   "source": [
    "# Import more packages so we can analyze things.\n",
    "# Whey are these in a separate cell? NO clue, but that's how this was set up.\n",
    "import numpy as np\n",
    "import pandas as pd"
   ]
  },
  {
   "cell_type": "code",
   "execution_count": 3,
   "metadata": {},
   "outputs": [],
   "source": [
    "# I can't. Why another cell? Ridiculous.\n",
    "# But this package should make it easier for us to manipulate dates and time (hence the name)\n",
    "# LIES! THIS PACKAGE HAS THE AUDACITY TO CALL ITSELF 'DATETIME' AND THEN NAME A CLASS(?) INSIDE IT \n",
    "# 'DATETIME' TO MAKE EVERYTHING AS CONFUSING AS POSSIBLE. \n",
    "import datetime as dt"
   ]
  },
  {
   "cell_type": "markdown",
   "metadata": {},
   "source": [
    "# Reflect Tables into SQLAlchemy ORM"
   ]
  },
  {
   "cell_type": "code",
   "execution_count": 4,
   "metadata": {},
   "outputs": [],
   "source": [
    "# Python SQL toolkit and Object Relational Mapper\n",
    "# crux to getting anything to work for this HW\n",
    "import sqlalchemy \n",
    "\n",
    "# This means we can just be like \"Hey! SQLAlchemy! \n",
    "# Take a look at this already made tables and tell me all about them\"\n",
    "from sqlalchemy.ext.automap import automap_base\n",
    "\n",
    "# Sessions let's us start a database or table with SQLAlchemy?\n",
    "from sqlalchemy.orm import Session\n",
    "\n",
    "# Then again, maybe that's what engine does... f. Maybe engine lets ust connect with SQL?\n",
    "# But func is great because we can use it to look for max, and min, and all these other basic functions. \n",
    "# Also, tossing in \"inspect\" so we can poke and prod at the DB.\n",
    "from sqlalchemy import create_engine, func, inspect"
   ]
  },
  {
   "cell_type": "code",
   "execution_count": 5,
   "metadata": {},
   "outputs": [],
   "source": [
    "# AH! we establish a connection with our sqlite server which is really just a file cuz it's lite. \n",
    "engine = create_engine(\"sqlite:///Resources/hawaii.sqlite\")"
   ]
  },
  {
   "cell_type": "code",
   "execution_count": 6,
   "metadata": {},
   "outputs": [],
   "source": [
    "# reflect an existing database into a new model\n",
    "# i.e. auto read my shit and tell me what I gots.\n",
    "Base = automap_base()\n",
    "\n",
    "# reflect the tables\n",
    "Base.prepare(engine, reflect=True)"
   ]
  },
  {
   "cell_type": "code",
   "execution_count": 7,
   "metadata": {},
   "outputs": [
    {
     "data": {
      "text/plain": [
       "['measurement', 'station']"
      ]
     },
     "execution_count": 7,
     "metadata": {},
     "output_type": "execute_result"
    }
   ],
   "source": [
    "# We can view all of the classes that automap found\n",
    "Base.classes.keys()"
   ]
  },
  {
   "cell_type": "code",
   "execution_count": 8,
   "metadata": {},
   "outputs": [],
   "source": [
    "# Save references to each table\n",
    "# This just means we can say \"Measurement\" instead of \"Base.classes.measurement\"\n",
    "Measurement = Base.classes.measurement\n",
    "Station = Base.classes.station"
   ]
  },
  {
   "cell_type": "code",
   "execution_count": 9,
   "metadata": {},
   "outputs": [],
   "source": [
    "# Create our session (link) from Python to the DB\n",
    "# Oh. well there ya go. We're connecting python to the database with a session. OBVI! *eye roll*\n",
    "session = Session(engine)"
   ]
  },
  {
   "cell_type": "markdown",
   "metadata": {},
   "source": [
    "# Exploratory Climate Analysis"
   ]
  },
  {
   "cell_type": "markdown",
   "metadata": {},
   "source": [
    "##### Design a query to retrieve the last 12 months of precipitation data and plot the results\n",
    "##### Calculate the date 1 year ago from the last data point in the database\n",
    "##### Perform a query to retrieve the data and precipitation scores\n",
    "##### Save the query results as a Pandas DataFrame and set the index to the date column\n",
    "##### Sort the dataframe by date\n",
    "##### Use Pandas Plotting with Matplotlib to plot the data"
   ]
  },
  {
   "cell_type": "code",
   "execution_count": 10,
   "metadata": {},
   "outputs": [
    {
     "name": "stdout",
     "output_type": "stream",
     "text": [
      "id INTEGER\n",
      "station TEXT\n",
      "date TEXT\n",
      "prcp FLOAT\n",
      "tobs FLOAT\n",
      "id INTEGER\n",
      "station TEXT\n",
      "name TEXT\n",
      "latitude FLOAT\n",
      "longitude FLOAT\n",
      "elevation FLOAT\n"
     ]
    }
   ],
   "source": [
    "gadget = inspect(engine)\n",
    "measure_cols = gadget.get_columns('Measurement')\n",
    "station_cols = gadget.get_columns('Station')\n",
    "\n",
    "for c in measure_cols:\n",
    "    print(c['name'], c[\"type\"])\n",
    "    \n",
    "for c in station_cols:\n",
    "    print(c['name'], c[\"type\"])\n",
    "\n",
    "# Great! The Measurement database seems to have precipitation data and date data"
   ]
  },
  {
   "cell_type": "code",
   "execution_count": 11,
   "metadata": {},
   "outputs": [
    {
     "data": {
      "text/html": [
       "<div>\n",
       "<style scoped>\n",
       "    .dataframe tbody tr th:only-of-type {\n",
       "        vertical-align: middle;\n",
       "    }\n",
       "\n",
       "    .dataframe tbody tr th {\n",
       "        vertical-align: top;\n",
       "    }\n",
       "\n",
       "    .dataframe thead th {\n",
       "        text-align: right;\n",
       "    }\n",
       "</style>\n",
       "<table border=\"1\" class=\"dataframe\">\n",
       "  <thead>\n",
       "    <tr style=\"text-align: right;\">\n",
       "      <th></th>\n",
       "      <th>prcp</th>\n",
       "    </tr>\n",
       "    <tr>\n",
       "      <th>date</th>\n",
       "      <th></th>\n",
       "    </tr>\n",
       "  </thead>\n",
       "  <tbody>\n",
       "    <tr>\n",
       "      <th>2016-08-24</th>\n",
       "      <td>1.45</td>\n",
       "    </tr>\n",
       "    <tr>\n",
       "      <th>2016-08-24</th>\n",
       "      <td>0.08</td>\n",
       "    </tr>\n",
       "    <tr>\n",
       "      <th>2016-08-24</th>\n",
       "      <td>2.15</td>\n",
       "    </tr>\n",
       "    <tr>\n",
       "      <th>2016-08-24</th>\n",
       "      <td>2.15</td>\n",
       "    </tr>\n",
       "    <tr>\n",
       "      <th>2016-08-24</th>\n",
       "      <td>NaN</td>\n",
       "    </tr>\n",
       "  </tbody>\n",
       "</table>\n",
       "</div>"
      ],
      "text/plain": [
       "            prcp\n",
       "date            \n",
       "2016-08-24  1.45\n",
       "2016-08-24  0.08\n",
       "2016-08-24  2.15\n",
       "2016-08-24  2.15\n",
       "2016-08-24   NaN"
      ]
     },
     "execution_count": 11,
     "metadata": {},
     "output_type": "execute_result"
    }
   ],
   "source": [
    "# Query for just the date and the percipitation from the measurements\n",
    "latest = session.query(Measurement.date).order_by(Measurement.date.desc()).first()\n",
    "final = dt.datetime.strptime(latest[0], '%Y-%m-%d')\n",
    "last12= final - dt.timedelta(days = 365)\n",
    "# WHO THOUGHT DATETIME INSIDE DATETIME IS A LEGIT WAY TO NAME THINGS?\n",
    "\n",
    "date_prec = session.query(Measurement.date, Measurement.prcp).order_by(Measurement.date.desc()).\\\n",
    "    filter(Measurement.date > last12).all()\n",
    "\n",
    "date = [row[0] for row in date_prec]\n",
    "prec = [row[1] for row in date_prec]\n",
    "\n",
    "# (grumph is clearly a better naming system. at least its emotionally descriptive)\n",
    "grumph = pd.DataFrame(date, columns = ['date'])\n",
    "grumph['prcp'] = prec\n",
    "grumph = grumph.set_index(['date'])\n",
    "grumph = grumph.sort_values(by = ['date'], ascending = True)\n",
    "grumph.head()\n",
    "\n"
   ]
  },
  {
   "cell_type": "code",
   "execution_count": 12,
   "metadata": {},
   "outputs": [
    {
     "data": {
      "text/plain": [
       "<Figure size 7200x5400 with 0 Axes>"
      ]
     },
     "metadata": {},
     "output_type": "display_data"
    },
    {
     "data": {
      "image/png": "[encoded data removed]",
      "text/plain": [
       "<Figure size 432x288 with 1 Axes>"
      ]
     },
     "metadata": {
      "needs_background": "light"
     },
     "output_type": "display_data"
    }
   ],
   "source": [
    "# Trying to plot in pandas. This. is. so. not. fun.\n",
    "# Why does changing a random thing make the data appear? No idea.\n",
    "# But it does. So... there \n",
    "plt.figure(figsize = (100,75))\n",
    "grumph.plot.bar(title=f\"Precipitation in Hawaii\", width = 5)\n",
    "plt.legend(loc=\"upper center\")\n",
    "plt.tick_params(axis='x', which='both', bottom=False, top=False, labelbottom=False) \n",
    "plt.xlabel(\"date\")\n",
    "plt.ylabel(\"precipitation\")\n",
    "plt.legend(['precipitation'],loc = \"upper center\")\n",
    "plt.xticks(pd.Series(np.arange(0,len(grumph),365)))\n",
    "plt.tight_layout()\n",
    "plt.show()"
   ]
  },
  {
   "cell_type": "markdown",
   "metadata": {},
   "source": [
    "![precipitation](Images/precipitation.png)"
   ]
  },
  {
   "cell_type": "markdown",
   "metadata": {},
   "source": [
    "##### Use Pandas to calcualte the summary statistics for the precipitation data"
   ]
  },
  {
   "cell_type": "code",
   "execution_count": 13,
   "metadata": {},
   "outputs": [
    {
     "data": {
      "text/html": [
       "<div>\n",
       "<style scoped>\n",
       "    .dataframe tbody tr th:only-of-type {\n",
       "        vertical-align: middle;\n",
       "    }\n",
       "\n",
       "    .dataframe tbody tr th {\n",
       "        vertical-align: top;\n",
       "    }\n",
       "\n",
       "    .dataframe thead th {\n",
       "        text-align: right;\n",
       "    }\n",
       "</style>\n",
       "<table border=\"1\" class=\"dataframe\">\n",
       "  <thead>\n",
       "    <tr style=\"text-align: right;\">\n",
       "      <th></th>\n",
       "      <th>prcp</th>\n",
       "    </tr>\n",
       "  </thead>\n",
       "  <tbody>\n",
       "    <tr>\n",
       "      <th>count</th>\n",
       "      <td>2015.000000</td>\n",
       "    </tr>\n",
       "    <tr>\n",
       "      <th>mean</th>\n",
       "      <td>0.176462</td>\n",
       "    </tr>\n",
       "    <tr>\n",
       "      <th>std</th>\n",
       "      <td>0.460288</td>\n",
       "    </tr>\n",
       "    <tr>\n",
       "      <th>min</th>\n",
       "      <td>0.000000</td>\n",
       "    </tr>\n",
       "    <tr>\n",
       "      <th>25%</th>\n",
       "      <td>0.000000</td>\n",
       "    </tr>\n",
       "    <tr>\n",
       "      <th>50%</th>\n",
       "      <td>0.020000</td>\n",
       "    </tr>\n",
       "    <tr>\n",
       "      <th>75%</th>\n",
       "      <td>0.130000</td>\n",
       "    </tr>\n",
       "    <tr>\n",
       "      <th>max</th>\n",
       "      <td>6.700000</td>\n",
       "    </tr>\n",
       "  </tbody>\n",
       "</table>\n",
       "</div>"
      ],
      "text/plain": [
       "              prcp\n",
       "count  2015.000000\n",
       "mean      0.176462\n",
       "std       0.460288\n",
       "min       0.000000\n",
       "25%       0.000000\n",
       "50%       0.020000\n",
       "75%       0.130000\n",
       "max       6.700000"
      ]
     },
     "execution_count": 13,
     "metadata": {},
     "output_type": "execute_result"
    }
   ],
   "source": [
    "# Summary stats\n",
    "# I cannot tell you why they are different. just slightly. \n",
    "# At one point, I removed the rows with \"None\". But this has them in still and the count is the same.\n",
    "# So maybe describe is taking into account the that nothing is in that row and it's not counted.\n",
    "# MAYBE i was supposed to do this by hand rather than with the describe function. Meh.\n",
    "grumph.describe()"
   ]
  },
  {
   "cell_type": "markdown",
   "metadata": {},
   "source": [
    "![describe](Images/describe.png)"
   ]
  },
  {
   "cell_type": "code",
   "execution_count": 14,
   "metadata": {},
   "outputs": [
    {
     "name": "stdout",
     "output_type": "stream",
     "text": [
      "USC00519397 WAIKIKI 717.2, HI US\n",
      "USC00513117 KANEOHE 838.1, HI US\n",
      "USC00514830 KUALOA RANCH HEADQUARTERS 886.9, HI US\n",
      "USC00517948 PEARL CITY, HI US\n",
      "USC00518838 UPPER WAHIAWA 874.3, HI US\n",
      "USC00519523 WAIMANALO EXPERIMENTAL FARM, HI US\n",
      "USC00519281 WAIHEE 837.5, HI US\n",
      "USC00511918 HONOLULU OBSERVATORY 702.2, HI US\n",
      "USC00516128 MANOA LYON ARBO 785.2, HI US\n",
      "There are a total of 9 stations in this dataset\n"
     ]
    }
   ],
   "source": [
    "# Design a query to show how many stations are available in this dataset?\n",
    "station_count = session.query(Station.station, Station.name).distinct(Station.station).all()\n",
    "\n",
    "for station in station_count:\n",
    "    print(station[0], station[1])\n",
    "print(f'There are a total of {len(station_count)} stations in this dataset')"
   ]
  },
  {
   "cell_type": "code",
   "execution_count": 15,
   "metadata": {},
   "outputs": [
    {
     "name": "stdout",
     "output_type": "stream",
     "text": [
      "7 USC00519281 WAIHEE 837.5, HI US 2772\n",
      "1 USC00519397 WAIKIKI 717.2, HI US 2724\n",
      "2 USC00513117 KANEOHE 838.1, HI US 2709\n",
      "6 USC00519523 WAIMANALO EXPERIMENTAL FARM, HI US 2669\n",
      "9 USC00516128 MANOA LYON ARBO 785.2, HI US 2612\n",
      "3 USC00514830 KUALOA RANCH HEADQUARTERS 886.9, HI US 2202\n",
      "8 USC00511918 HONOLULU OBSERVATORY 702.2, HI US 1979\n",
      "4 USC00517948 PEARL CITY, HI US 1372\n",
      "5 USC00518838 UPPER WAHIAWA 874.3, HI US 511\n"
     ]
    }
   ],
   "source": [
    "# What are the most active stations? (i.e. what stations have the most rows)?\n",
    "# List the stations and the counts in descending order.\n",
    "frick = session.query(Station.id)\n",
    "\n",
    "station_again = engine.execute('SELECT Station.id, Station.station, name, count \\\n",
    "              FROM Station \\\n",
    "              INNER JOIN( \\\n",
    "                  SELECT station, count(id) count, id \\\n",
    "                  FROM Measurement \\\n",
    "                  GROUP BY station) AS SC \\\n",
    "              ON Station.station = SC.station \\\n",
    "              ORDER BY count DESC')\n",
    "\n",
    "for station in station_again:\n",
    "    print(station[0], station[1], station[2], station[3])\n",
    "    \n",
    "# while this is correct, it turns out that we cannot store this data in a useful way because we are bypassing\n",
    "# the session and just talking with the DB. And this fucks it all up.\n",
    "# BUT THIS WAS SO MUCH MORE INTUITIVE TO WRITE!!!"
   ]
  },
  {
   "cell_type": "code",
   "execution_count": 16,
   "metadata": {},
   "outputs": [
    {
     "name": "stdout",
     "output_type": "stream",
     "text": [
      "USC00519281 2772\n",
      "USC00519397 2724\n",
      "USC00513117 2709\n",
      "USC00519523 2669\n",
      "USC00516128 2612\n",
      "USC00514830 2202\n",
      "USC00511918 1979\n",
      "USC00517948 1372\n",
      "USC00518838 511\n"
     ]
    }
   ],
   "source": [
    "# Well here's the query way. Why? Because of the reason stated above. So frustrating \n",
    "# \"frick\" is just a nice way of saying \"gahfahkyaself!\"\n",
    "frick = session.query(Measurement.station, func.count(Measurement.id)).group_by(Measurement.station).\\\n",
    "    order_by((func.count(Measurement.station)).desc())\n",
    "for f in frick:\n",
    "    print(f[0], f[1])\n",
    "    "
   ]
  },
  {
   "cell_type": "code",
   "execution_count": 17,
   "metadata": {},
   "outputs": [
    {
     "data": {
      "text/html": [
       "<div>\n",
       "<style scoped>\n",
       "    .dataframe tbody tr th:only-of-type {\n",
       "        vertical-align: middle;\n",
       "    }\n",
       "\n",
       "    .dataframe tbody tr th {\n",
       "        vertical-align: top;\n",
       "    }\n",
       "\n",
       "    .dataframe thead th {\n",
       "        text-align: right;\n",
       "    }\n",
       "</style>\n",
       "<table border=\"1\" class=\"dataframe\">\n",
       "  <thead>\n",
       "    <tr style=\"text-align: right;\">\n",
       "      <th></th>\n",
       "      <th>id</th>\n",
       "      <th>low</th>\n",
       "      <th>high</th>\n",
       "      <th>average</th>\n",
       "    </tr>\n",
       "  </thead>\n",
       "  <tbody>\n",
       "    <tr>\n",
       "      <th>0</th>\n",
       "      <td>USC00519281</td>\n",
       "      <td>54.0</td>\n",
       "      <td>85.0</td>\n",
       "      <td>71.663781</td>\n",
       "    </tr>\n",
       "    <tr>\n",
       "      <th>1</th>\n",
       "      <td>USC00519397</td>\n",
       "      <td>56.0</td>\n",
       "      <td>87.0</td>\n",
       "      <td>74.553231</td>\n",
       "    </tr>\n",
       "    <tr>\n",
       "      <th>2</th>\n",
       "      <td>USC00513117</td>\n",
       "      <td>59.0</td>\n",
       "      <td>85.0</td>\n",
       "      <td>72.689184</td>\n",
       "    </tr>\n",
       "    <tr>\n",
       "      <th>3</th>\n",
       "      <td>USC00519523</td>\n",
       "      <td>56.0</td>\n",
       "      <td>85.0</td>\n",
       "      <td>74.543649</td>\n",
       "    </tr>\n",
       "    <tr>\n",
       "      <th>4</th>\n",
       "      <td>USC00516128</td>\n",
       "      <td>58.0</td>\n",
       "      <td>84.0</td>\n",
       "      <td>70.915008</td>\n",
       "    </tr>\n",
       "    <tr>\n",
       "      <th>5</th>\n",
       "      <td>USC00514830</td>\n",
       "      <td>58.0</td>\n",
       "      <td>85.0</td>\n",
       "      <td>74.873297</td>\n",
       "    </tr>\n",
       "    <tr>\n",
       "      <th>6</th>\n",
       "      <td>USC00511918</td>\n",
       "      <td>53.0</td>\n",
       "      <td>87.0</td>\n",
       "      <td>71.615968</td>\n",
       "    </tr>\n",
       "    <tr>\n",
       "      <th>7</th>\n",
       "      <td>USC00517948</td>\n",
       "      <td>58.0</td>\n",
       "      <td>87.0</td>\n",
       "      <td>74.684402</td>\n",
       "    </tr>\n",
       "    <tr>\n",
       "      <th>8</th>\n",
       "      <td>USC00518838</td>\n",
       "      <td>58.0</td>\n",
       "      <td>83.0</td>\n",
       "      <td>72.724070</td>\n",
       "    </tr>\n",
       "  </tbody>\n",
       "</table>\n",
       "</div>"
      ],
      "text/plain": [
       "            id   low  high    average\n",
       "0  USC00519281  54.0  85.0  71.663781\n",
       "1  USC00519397  56.0  87.0  74.553231\n",
       "2  USC00513117  59.0  85.0  72.689184\n",
       "3  USC00519523  56.0  85.0  74.543649\n",
       "4  USC00516128  58.0  84.0  70.915008\n",
       "5  USC00514830  58.0  85.0  74.873297\n",
       "6  USC00511918  53.0  87.0  71.615968\n",
       "7  USC00517948  58.0  87.0  74.684402\n",
       "8  USC00518838  58.0  83.0  72.724070"
      ]
     },
     "execution_count": 17,
     "metadata": {},
     "output_type": "execute_result"
    }
   ],
   "source": [
    "# Using the station id from the previous query, calculate the lowest temperature recorded, \n",
    "# highest temperature recorded, and average temperature most active station?\n",
    "columns = [\"id\", \"low\", \"high\", \"average\"]\n",
    "temps = pd.DataFrame(columns = columns)\n",
    "\n",
    "for station in frick:\n",
    "    station_id = station[0]\n",
    "    low = session.query(func.min(Measurement.tobs)).filter(Measurement.station == station_id).all()\n",
    "    high = session.query(func.max(Measurement.tobs)).filter(Measurement.station == station_id).all()\n",
    "    ave = session.query(func.avg(Measurement.tobs)).filter(Measurement.station == station_id).all()\n",
    "    t = {\"id\": station_id, \"low\": low[0][0], \"high\": high[0][0], \"average\": ave[0][0]}\n",
    "    temps = temps.append(t, ignore_index = True)\n",
    "temps"
   ]
  },
  {
   "cell_type": "code",
   "execution_count": 18,
   "metadata": {},
   "outputs": [],
   "source": [
    "# Choose the station with the highest number of temperature observations.\n",
    "# Query the last 12 months of temperature observation data for this station and plot the results as a histogram\n",
    "\n",
    "latest = session.query(Measurement.date).\\\n",
    "    filter(Measurement.station == temps.id[0]).order_by(Measurement.date.desc()).first()\n",
    "final = dt.datetime.strptime(latest[0], '%Y-%m-%d')\n",
    "last12= final - dt.timedelta(days = 365)\n",
    "\n",
    "high_obs = session.query(Measurement.date, Measurement.tobs).filter(Measurement.station == temps.id[0]).\\\n",
    "    filter(Measurement.date > last12).all()\n",
    "\n",
    "date = [row[0] for row in high_obs]\n",
    "tobs = [row[1] for row in high_obs]\n",
    "\n",
    "# (grumph is clearly a better naming system. at least its emotionally descriptive)\n",
    "so_observed = pd.DataFrame(date, columns = ['date'])\n",
    "so_observed['tobs'] = tobs\n"
   ]
  },
  {
   "cell_type": "code",
   "execution_count": 19,
   "metadata": {},
   "outputs": [
    {
     "data": {
      "image/png": "[encoded data removed]",
      "text/plain": [
       "<Figure size 432x288 with 1 Axes>"
      ]
     },
     "metadata": {
      "needs_background": "light"
     },
     "output_type": "display_data"
    }
   ],
   "source": [
    "# Plot plot plot\n",
    "plt.hist(x = so_observed.tobs, label = 'tobs', bins = 12)\n",
    "plt.xlabel(\"Temperature\")\n",
    "plt.ylabel(\"Frequency\")\n",
    "plt.title(f\"Temperatures at {temps.id[0]}\")\n",
    "plt.legend(loc = \"upper right\")\n",
    "plt.grid(color='lightgrey', linestyle='-', linewidth=1)"
   ]
  },
  {
   "cell_type": "markdown",
   "metadata": {},
   "source": [
    "![precipitation](Images/station-histogram.png)"
   ]
  },
  {
   "cell_type": "markdown",
   "metadata": {},
   "source": [
    "# According to the git lab info, all this is optional. So.... BYE!"
   ]
  },
  {
   "cell_type": "code",
   "execution_count": 20,
   "metadata": {},
   "outputs": [
    {
     "name": "stdout",
     "output_type": "stream",
     "text": [
      "[(62.0, 69.57142857142857, 74.0)]\n"
     ]
    }
   ],
   "source": [
    "# This function called `calc_temps` will accept start date and end date in the format '%Y-%m-%d' \n",
    "# and return the minimum, average, and maximum temperatures for that range of dates\n",
    "def calc_temps(start_date, end_date):\n",
    "    \"\"\"TMIN, TAVG, and TMAX for a list of dates.\n",
    "    \n",
    "    Args:\n",
    "        start_date (string): A date string in the format %Y-%m-%d\n",
    "        end_date (string): A date string in the format %Y-%m-%d\n",
    "        \n",
    "    Returns:\n",
    "        TMIN, TAVE, and TMAX\n",
    "    \"\"\"\n",
    "    \n",
    "    return session.query(func.min(Measurement.tobs), func.avg(Measurement.tobs), func.max(Measurement.tobs)).\\\n",
    "        filter(Measurement.date >= start_date).filter(Measurement.date <= end_date).all()\n",
    "\n",
    "# function usage example\n",
    "print(calc_temps('2012-02-28', '2012-03-05'))"
   ]
  },
  {
   "cell_type": "code",
   "execution_count": 21,
   "metadata": {},
   "outputs": [],
   "source": [
    "# Use your previous function `calc_temps` to calculate the tmin, tavg, and tmax \n",
    "# for your trip using the previous year's data for those same dates.\n"
   ]
  },
  {
   "cell_type": "code",
   "execution_count": 22,
   "metadata": {},
   "outputs": [],
   "source": [
    "# Plot the results from your previous query as a bar chart. \n",
    "# Use \"Trip Avg Temp\" as your Title\n",
    "# Use the average temperature for the y value\n",
    "# Use the peak-to-peak (tmax-tmin) value as the y error bar (yerr)\n"
   ]
  },
  {
   "cell_type": "code",
   "execution_count": 23,
   "metadata": {},
   "outputs": [],
   "source": [
    "# Calculate the total amount of rainfall per weather station for your trip dates using the previous year's matching dates.\n",
    "# Sort this in descending order by precipitation amount and list the station, name, latitude, longitude, and elevation\n",
    "\n"
   ]
  },
  {
   "cell_type": "markdown",
   "metadata": {},
   "source": [
    "## Optional Challenge Assignment"
   ]
  },
  {
   "cell_type": "code",
   "execution_count": 24,
   "metadata": {},
   "outputs": [
    {
     "data": {
      "text/plain": [
       "[(62.0, 69.15384615384616, 77.0)]"
      ]
     },
     "execution_count": 24,
     "metadata": {},
     "output_type": "execute_result"
    }
   ],
   "source": [
    "# Create a query that will calculate the daily normals \n",
    "# (i.e. the averages for tmin, tmax, and tavg for all historic data matching a specific month and day)\n",
    "\n",
    "def daily_normals(date):\n",
    "    \"\"\"Daily Normals.\n",
    "    \n",
    "    Args:\n",
    "        date (str): A date string in the format '%m-%d'\n",
    "        \n",
    "    Returns:\n",
    "        A list of tuples containing the daily normals, tmin, tavg, and tmax\n",
    "    \n",
    "    \"\"\"\n",
    "    \n",
    "    sel = [func.min(Measurement.tobs), func.avg(Measurement.tobs), func.max(Measurement.tobs)]\n",
    "    return session.query(*sel).filter(func.strftime(\"%m-%d\", Measurement.date) == date).all()\n",
    "    \n",
    "daily_normals(\"01-01\")"
   ]
  },
  {
   "cell_type": "code",
   "execution_count": 25,
   "metadata": {},
   "outputs": [],
   "source": [
    "# calculate the daily normals for your trip\n",
    "# push each tuple of calculations into a list called `normals`\n",
    "\n",
    "# Set the start and end date of the trip\n",
    "\n",
    "# Use the start and end date to create a range of dates\n",
    "\n",
    "# Stip off the year and save a list of %m-%d strings\n",
    "\n",
    "# Loop through the list of %m-%d strings and calculate the normals for each date\n"
   ]
  },
  {
   "cell_type": "code",
   "execution_count": 26,
   "metadata": {},
   "outputs": [],
   "source": [
    "# Load the previous query results into a Pandas DataFrame and add the `trip_dates` range as the `date` index\n"
   ]
  },
  {
   "cell_type": "code",
   "execution_count": 27,
   "metadata": {},
   "outputs": [],
   "source": [
    "# Plot the daily normals as an area plot with `stacked=False`\n"
   ]
  }
 ],
 "metadata": {
  "kernel_info": {
   "name": "python3"
  },
  "kernelspec": {
   "display_name": "Python 3",
   "language": "python",
   "name": "python3"
  },
  "language_info": {
   "codemirror_mode": {
    "name": "ipython",
    "version": 3
   },
   "file_extension": ".py",
   "mimetype": "text/x-python",
   "name": "python",
   "nbconvert_exporter": "python",
   "pygments_lexer": "ipython3",
   "version": "3.6.7"
  },
  "nteract": {
   "version": "0.12.3"
  },
  "varInspector": {
   "cols": {
    "lenName": 16,
    "lenType": 16,
    "lenVar": 40
   },
   "kernels_config": {
    "python": {
     "delete_cmd_postfix": "",
     "delete_cmd_prefix": "del ",
     "library": "var_list.py",
     "varRefreshCmd": "print(var_dic_list())"
    },
    "r": {
     "delete_cmd_postfix": ") ",
     "delete_cmd_prefix": "rm(",
     "library": "var_list.r",
     "varRefreshCmd": "cat(var_dic_list()) "
    }
   },
   "types_to_exclude": [
    "module",
    "function",
    "builtin_function_or_method",
    "instance",
    "_Feature"
   ],
   "window_display": false
  }
 },
 "nbformat": 4,
 "nbformat_minor": 2
}
